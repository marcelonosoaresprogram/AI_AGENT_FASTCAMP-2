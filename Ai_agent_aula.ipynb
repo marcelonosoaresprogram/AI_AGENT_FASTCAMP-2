{
 "cells": [
  {
   "cell_type": "code",
   "execution_count": null,
   "metadata": {},
   "outputs": [
    {
     "data": {
      "text/plain": [
       "True"
      ]
     },
     "execution_count": 2,
     "metadata": {},
     "output_type": "execute_result"
    }
   ],
   "source": [
    "#importação das bibliotecas\n",
    "from dotenv import load_dotenv\n",
    "import os\n",
    "load_dotenv()"
   ]
  },
  {
   "cell_type": "code",
   "execution_count": null,
   "metadata": {},
   "outputs": [
    {
     "name": "stdout",
     "output_type": "stream",
     "text": [
      "Fast language models are revolutionizing the field of natural language processing (NLP) and have numerous applications in various industries. The importance of fast language models can be summarized as follows:\n",
      "\n",
      "1. **Improved Efficiency**: Fast language models can process and analyze large amounts of text data quickly, enabling applications such as text classification, language translation, and sentiment analysis to be performed in real-time. This efficiency is crucial for applications that require instantaneous responses, such as chatbots, virtual assistants, and customer service platforms.\n",
      "2. **Enhanced User Experience**: Fast language models enable developers to build more responsive and interactive applications, providing a better user experience. For instance, a fast language model can quickly generate human-like responses to user queries, facilitating more natural and engaging conversations.\n",
      "3. **Increased Scalability**: Fast language models can handle large volumes of text data and scale to meet the needs of growing applications. This scalability is essential for applications that need to process vast amounts of text data, such as social media platforms, search engines, and content management systems.\n",
      "4. **Reduced Latency**: Fast language models minimize latency, which is critical for applications that require real-time responses, such as voice assistants, live chat support, and emergency response systems.\n",
      "5. **Better Decision-Making**: Fast language models can quickly analyze large amounts of text data, providing insights that can inform business decisions, improve customer service, and optimize operations.\n",
      "6. **Competitive Advantage**: Organizations that leverage fast language models can gain a competitive advantage by providing faster and more accurate language-based services, improving customer satisfaction, and increasing market share.\n",
      "7. **Cost Savings**: Fast language models can reduce the computational resources required for NLP tasks, leading to cost savings on infrastructure, maintenance, and energy consumption.\n",
      "8. **Improved Accessibility**: Fast language models can enable more efficient and effective language translation, breaking language barriers and increasing access to information, services, and opportunities for people worldwide.\n",
      "9. **Facilitating Research and Development**: Fast language models can accelerate research and development in NLP, enabling scientists and engineers to explore new ideas, test hypotheses, and develop innovative applications more quickly.\n",
      "10. **Enabling New Applications**: Fast language models can enable the development of new applications and services, such as voice-controlled interfaces, language-based games, and interactive storytelling platforms, which can transform industries and revolutionize the way we interact with technology.\n",
      "\n",
      "Some examples of fast language models include:\n",
      "\n",
      "* Transformers (e.g., BERT, RoBERTa)\n",
      "* Recurrent Neural Networks (RNNs)\n",
      "* Long Short-Term Memory (LSTM) networks\n",
      "* Gradient Boosting Machines (GBMs)\n",
      "\n",
      "To achieve fast language models, developers and researchers employ various techniques, such as:\n",
      "\n",
      "* Model pruning and compression\n",
      "* Knowledge distillation\n",
      "* Quantization and binary neural networks\n",
      "* Parallel processing and distributed computing\n",
      "* Cache-friendly and optimized algorithms\n",
      "\n",
      "By leveraging these techniques and models, organizations can unlock the potential of fast language models and create innovative applications that transform the way we interact with language and technology.\n"
     ]
    }
   ],
   "source": [
    "import os\n",
    "\n",
    "from groq import Groq\n",
    "\n",
    "#Requisição da API\n",
    "client = Groq(\n",
    "    api_key=os.environ.get(\"GROQ_API_KEY\"),\n",
    ")\n",
    "\n",
    "chat_completion = client.chat.completions.create(\n",
    "    messages=[\n",
    "        {\n",
    "            \"role\": \"user\",\n",
    "            \"content\": \"Explain the importance of fast language models\",\n",
    "        }\n",
    "    ],\n",
    "    model=\"llama-3.3-70b-versatile\",\n",
    ")\n",
    "#iniciando chat com o prompt: Explain the importance of fast language models.\n",
    "print(chat_completion.choices[0].message.content)"
   ]
  },
  {
   "cell_type": "code",
   "execution_count": null,
   "metadata": {},
   "outputs": [],
   "source": [
    "#Criando a classe Agent com as entradas client e system(prompt do sistema)\n",
    "class Agent:\n",
    "    def __init__(self, client, system):\n",
    "        self.client = client\n",
    "        self.system = system\n",
    "        self.messages = []  #Esse campo será o histórico do chat. Nele as mensagens enviadas serão armazenadas, assim como os pensamentos do modelo.\n",
    "        if self.system is not None:\n",
    "            self.messages.append({\"role\": \"system\", \"content\": self.system})\n",
    "    #Essa função permite que a instância da classe seja tradada como uma função. A intância poderá ser chamada com o argumento message, que é o prompt do usuário\n",
    "    def __call__(self, message=\"\"):\n",
    "        if message:   #se houver message adicionar ele ao histórico\n",
    "            self.messages.append({\"role\":\"user\", \"content\": message})\n",
    "        result = self.execute()  #executar a função execute, que irá iniciar o chat\n",
    "        self.messages.append({\"role\": \"assistant\", \"content\": result}) # adicionar o resultado às mensagens\n",
    "        return result\n",
    "    \n",
    "    def execute(self): \n",
    "        completion = client.chat.completions.create(    #criando o chat com o modelo llama3 e iniciando ele com as mensagens presentes no self.messages\n",
    "            messages = self.messages,\n",
    "            model = \"llama3-70b-8192\"\n",
    "        )\n",
    "        return completion.choices[0].message.content"
   ]
  },
  {
   "cell_type": "code",
   "execution_count": null,
   "metadata": {},
   "outputs": [],
   "source": [
    "#prompt do sistema\n",
    "#definindo o fluxo de funcionamento do agente: pensamento, ação, pausa, observação e resposta(caso haja)\n",
    "#nesse prompt nós apresentamos ao agente as ferramentas que lhe estão disponíveis.\n",
    "system_prompt = \"\"\"\n",
    "\n",
    "You run in a loop of Thought, Action, Pause, Observation.               \n",
    "At the end of the loop you output an Answer\n",
    "Use Thought to describe your thoughts about the question you habe been asked.\n",
    "Use Action to run one of the action available to you - then return PAUSE.\n",
    "Observation will be the result of running those actions.\n",
    "\n",
    "You available actions are: \n",
    "\n",
    "calculat:\n",
    "e.g. calculate: 4 * 7 / 3\n",
    "Runs a calculatation and returns the number - uses python so be sure to use floating point syntax if necessary\n",
    "\n",
    "get_planet_mass:        \n",
    "e.g. get_planet_mass: Earth\n",
    "returns weight of the planet in kg\n",
    "\n",
    "Example session:\n",
    "\n",
    "Question: What is the mass of Earth times 2?\n",
    "Thought: I neet to fin te mass of Earth\n",
    "Action: get_planet_mass: Earth\n",
    "PAUSE\n",
    "\n",
    "You will be called again with this: \n",
    "\n",
    "Observation: 5.972e24\n",
    "\n",
    "Thought: I need to multiply this by 2 \n",
    "Action: calculate: 5.972e24 * 2\n",
    "PAUSE\n",
    "\n",
    "You will be called again with this:\n",
    "\n",
    "Observation: 5.972e24\n",
    "\n",
    "Thoutht: I need to multiply this by 2 \n",
    "Action: calculate  5.972e24 * 2\n",
    "PAUSE\n",
    "\n",
    "You will be called again with this:\n",
    "\n",
    "Observation: 1.1944x10e25\n",
    "\n",
    "If you have the answer, output it as the Answer.\n",
    "\n",
    "Answer: The mass of Earth times 2 is 1,944x10e25. \n",
    "\n",
    "Now its your turn:\n",
    "\n",
    "\"\"\".strip()"
   ]
  },
  {
   "cell_type": "code",
   "execution_count": null,
   "metadata": {},
   "outputs": [],
   "source": [
    "# Ferramentas (Tools) \n",
    "def calculate(operation): #calculadora\n",
    "    return eval(operation)\n",
    "\n",
    "def get_planet_mass(planet) -> float: #encontrar a massa do planeta. Se o argumento corresponder a alguma string a função retornará o valor da string em massa\n",
    "    match planet.lower():\n",
    "        case \"earth\":\n",
    "            return 5.972e24\n",
    "        case \"mars\":\n",
    "            return 6.39e23\n",
    "        case \"jupiter\":\n",
    "            return 1.898e27\n",
    "        case \"saturn\":\n",
    "            return 5.683e26\n",
    "        case \"uranus\":\n",
    "            return 8.681e25\n",
    "        case \"neptune\":\n",
    "            return 1.024e26\n",
    "        case \"mercury\":\n",
    "            return 3.285e23\n",
    "        case \"venus\":\n",
    "            return 4.867e24\n",
    "        case _:\n",
    "            return 0.0"
   ]
  },
  {
   "cell_type": "code",
   "execution_count": null,
   "metadata": {},
   "outputs": [],
   "source": [
    "neil_tyson = Agent(client, system_prompt)       #Instância da classe"
   ]
  },
  {
   "cell_type": "code",
   "execution_count": null,
   "metadata": {},
   "outputs": [
    {
     "name": "stdout",
     "output_type": "stream",
     "text": [
      "Thought: I need to find the mass of Earth.\n"
     ]
    }
   ],
   "source": [
    "result = neil_tyson(\"what is the mass of Earth times 5?\") #Primeiro prompt\n",
    "print(result)"
   ]
  },
  {
   "cell_type": "code",
   "execution_count": null,
   "metadata": {},
   "outputs": [
    {
     "data": {
      "text/plain": [
       "[{'role': 'system',\n",
       "  'content': 'You run in a loop of Thought, Action, Pause, Observation.\\nAt the end of the loop you output an Answer\\nUse Thought to describe your thoughts about the question you habe been asked.\\nUse Action to run one of the action available to you - then return PAUSE.\\nObservation will be the result of running those actions.\\n\\nYou available actions are:\\n\\ncalculat:\\ne.g. calculate: 4 * 7 / 3\\nRuns a calculatation and returns the number - uses python so be sure to use floating point syntax if necessary\\n\\nget_planet_mass:\\ne.g. get_planet_mass: Earth\\nreturns weight of the planet in kg\\n\\nExample session:\\n\\nQuestion: What is the mass of Earth times 2?\\nThought: I neet to fin te mass of Earth\\nAction: get_planet_mass: Earth\\nPAUSE\\n\\nYou will be called again with this: \\n\\nObservation: 5.972e24\\n\\nThought: I need to multiply this by 2 \\nAction: calculate: 5.972e24 * 2\\nPAUSE\\n\\nYou will be called again with this:\\n\\nObservation: 5.972e24\\n\\nThoutht: I need to multiply this by 2 \\nAction: calculate  5.972e24 * 2\\nPAUSE\\n\\nYou will be called again with this:\\n\\nObservation: 1.1944x10e25\\n\\nIf you have the answer, output it as the Answer.\\n\\nAnswer: The mass of Earth times 2 is 1,944x10e25. \\n\\nNow its your turn:'},\n",
       " {'role': 'user', 'content': 'what is the mass of Earth times 5?'},\n",
       " {'role': 'assistant',\n",
       "  'content': 'Thought: I need to find the mass of Earth.'}]"
      ]
     },
     "execution_count": 9,
     "metadata": {},
     "output_type": "execute_result"
    }
   ],
   "source": [
    "neil_tyson.messages #histórico com o primeiro prompt"
   ]
  },
  {
   "cell_type": "code",
   "execution_count": null,
   "metadata": {},
   "outputs": [
    {
     "name": "stdout",
     "output_type": "stream",
     "text": [
      "Action: calculate: 5.972e24 * 5 \n",
      "PAUSE\n"
     ]
    }
   ],
   "source": [
    "result = neil_tyson()  #continuando o loop. Como o pensamento foi feito na primeira execução, agora chegamos no passo da ação\n",
    "print(result)"
   ]
  },
  {
   "cell_type": "code",
   "execution_count": null,
   "metadata": {},
   "outputs": [
    {
     "name": "stdout",
     "output_type": "stream",
     "text": [
      "5.972e+24\n"
     ]
    }
   ],
   "source": [
    "observation = get_planet_mass(\"Earth\")   #executando a função para que o agente receba o valor dela como observação\n",
    "print(observation)"
   ]
  },
  {
   "cell_type": "code",
   "execution_count": null,
   "metadata": {},
   "outputs": [
    {
     "name": "stdout",
     "output_type": "stream",
     "text": [
      "Thought: I need to multiply this by 5.\n"
     ]
    }
   ],
   "source": [
    "next_prompt = f\"Observation: {observation}\"   #enviando a observação \n",
    "result = neil_tyson(next_prompt) # código seguirá a execução das ultimmas células até que a resposta seja obtida.\n",
    "print(result)"
   ]
  },
  {
   "cell_type": "code",
   "execution_count": 13,
   "metadata": {},
   "outputs": [
    {
     "data": {
      "text/plain": [
       "[{'role': 'system',\n",
       "  'content': 'You run in a loop of Thought, Action, Pause, Observation.\\nAt the end of the loop you output an Answer\\nUse Thought to describe your thoughts about the question you habe been asked.\\nUse Action to run one of the action available to you - then return PAUSE.\\nObservation will be the result of running those actions.\\n\\nYou available actions are:\\n\\ncalculat:\\ne.g. calculate: 4 * 7 / 3\\nRuns a calculatation and returns the number - uses python so be sure to use floating point syntax if necessary\\n\\nget_planet_mass:\\ne.g. get_planet_mass: Earth\\nreturns weight of the planet in kg\\n\\nExample session:\\n\\nQuestion: What is the mass of Earth times 2?\\nThought: I neet to fin te mass of Earth\\nAction: get_planet_mass: Earth\\nPAUSE\\n\\nYou will be called again with this: \\n\\nObservation: 5.972e24\\n\\nThought: I need to multiply this by 2 \\nAction: calculate: 5.972e24 * 2\\nPAUSE\\n\\nYou will be called again with this:\\n\\nObservation: 5.972e24\\n\\nThoutht: I need to multiply this by 2 \\nAction: calculate  5.972e24 * 2\\nPAUSE\\n\\nYou will be called again with this:\\n\\nObservation: 1.1944x10e25\\n\\nIf you have the answer, output it as the Answer.\\n\\nAnswer: The mass of Earth times 2 is 1,944x10e25. \\n\\nNow its your turn:'},\n",
       " {'role': 'user', 'content': 'what is the mass of Earth times 5?'},\n",
       " {'role': 'assistant',\n",
       "  'content': 'Thought: I need to find the mass of Earth.'},\n",
       " {'role': 'assistant', 'content': ''},\n",
       " {'role': 'user', 'content': 'Observation: 5.972e+24'},\n",
       " {'role': 'assistant', 'content': 'Thought: I need to multiply this by 5.'}]"
      ]
     },
     "execution_count": 13,
     "metadata": {},
     "output_type": "execute_result"
    }
   ],
   "source": [
    "neil_tyson.messages"
   ]
  },
  {
   "cell_type": "code",
   "execution_count": null,
   "metadata": {},
   "outputs": [],
   "source": [
    "#importando a biblioteca re para a identificação da ação e do argumento\n",
    "import re\n",
    "#agora a ideia é produzir um agente que funcione em loop, descartando a necessidade de ficar executando células manualmente\n",
    "def agent_loop(max_iterations, system, query):\n",
    "    agent = Agent(client=client, system=system_prompt)\n",
    "    tools = [\"calculate\", \"get_planet_mass\"]\n",
    "    next_prompt = query\n",
    "    i = 0\n",
    "    while i < max_iterations: #define que o loop será executado até que i ( o contador ) seja menor que o número máximo de iterações\n",
    "        i += 1 #incrimenta 1 a i após cada iteração\n",
    "        result = agent(next_prompt) #Após cada loop result assume um valor diferente. No primeiro loop result está definido como query\n",
    "        print(result)\n",
    "        #Se pause e action estiver no resultado a biblioteca re irá achar qual é a ação e qual é o argumento da ação. \n",
    "        if \"PAUSE\" in result and \"Action\" in result:\n",
    "            action = re.findall(r\"Action: ([a-z_]+): (.+)\", result, re.IGNORECASE)\n",
    "            chosen_tool = action[0][0] # ferramenta encontrada\n",
    "            arg = action[0][1] #argumento do ferramenta\n",
    "\n",
    "            if chosen_tool in tools:\n",
    "                result_tool = eval(f\"{chosen_tool}('{arg}')\") #aqui a \"observação\" será salva e adicionada ao próximo prompt\n",
    "                next_prompt = f\"Observation: {result_tool}\"\n",
    "\n",
    "            else:   #caso não haja ferramenta haverá um erro\n",
    "                next_prompt = \"Observation: Tool not found\"\n",
    "\n",
    "            print(next_prompt)\n",
    "            continue #continua para a próxima iteração\n",
    "\n",
    "        if \"Answer\" in result: #se o termo answer estiver nos resultados o loop é encerrado e a resposta estará armazenada em result\n",
    "            break\n",
    "\n"
   ]
  },
  {
   "cell_type": "code",
   "execution_count": 15,
   "metadata": {},
   "outputs": [
    {
     "name": "stdout",
     "output_type": "stream",
     "text": [
      "Thought: I need to find the mass of the Earth and the mass of Mercury, and then add them together before multiplying the result by 5.\n",
      "Action: get_planet_mass: Earth\n",
      "PAUSE\n",
      "Observation: 5.972e+24\n",
      "Thought: I have the mass of the Earth, now I need to get the mass of Mercury.\n",
      "Action: get_planet_mass: Mercury\n",
      "PAUSE\n",
      "Observation: 3.285e+23\n",
      "Thought: I have the masses of both the Earth and Mercury, now I need to add them together.\n",
      "Action: calculate: 5.972e+24 + 3.285e+23\n",
      "PAUSE\n",
      "Observation: 6.300500000000001e+24\n",
      "Thought: I have the sum of the masses, now I need to multiply it by 5.\n",
      "Action: calculate: 6.300500000000001e+24 * 5\n",
      "PAUSE\n",
      "Observation: 3.1502500000000004e+25\n",
      "Thought: I have the final result, which is the mass of the Earth plus the mass of Mercury, multiplied by 5.\n",
      "\n",
      "Answer: The mass of the Earth plus the mass of Mercury, and all of it times 5 is 3.15025x10e25.\n"
     ]
    }
   ],
   "source": [
    "agent_loop(10, system = system_prompt, query=\"what is the mass of the Earth plus the mass of Mercury, and All of it times 5\")"
   ]
  }
 ],
 "metadata": {
  "kernelspec": {
   "display_name": "venv",
   "language": "python",
   "name": "python3"
  },
  "language_info": {
   "codemirror_mode": {
    "name": "ipython",
    "version": 3
   },
   "file_extension": ".py",
   "mimetype": "text/x-python",
   "name": "python",
   "nbconvert_exporter": "python",
   "pygments_lexer": "ipython3",
   "version": "3.12.9"
  }
 },
 "nbformat": 4,
 "nbformat_minor": 2
}
