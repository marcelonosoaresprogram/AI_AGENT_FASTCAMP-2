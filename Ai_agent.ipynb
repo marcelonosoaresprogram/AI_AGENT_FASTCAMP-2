{
 "cells": [
  {
   "cell_type": "code",
   "execution_count": 7,
   "metadata": {},
   "outputs": [
    {
     "data": {
      "text/plain": [
       "True"
      ]
     },
     "execution_count": 7,
     "metadata": {},
     "output_type": "execute_result"
    }
   ],
   "source": [
    "from dotenv import load_dotenv\n",
    "import os\n",
    "load_dotenv()"
   ]
  },
  {
   "cell_type": "code",
   "execution_count": 8,
   "metadata": {},
   "outputs": [
    {
     "name": "stdout",
     "output_type": "stream",
     "text": [
      "Fast language models are crucial in the field of natural language processing (NLP) and have numerous applications in various industries. Here are some reasons why fast language models are important:\n",
      "\n",
      "1. **Improved User Experience**: Fast language models enable real-time language understanding and generation, which is essential for applications like chatbots, virtual assistants, and language translation software. Quick responses improve the overall user experience and make interactions more engaging.\n",
      "2. **Efficient Processing of Large Volumes of Data**: Language models need to process vast amounts of text data, which can be computationally expensive. Fast language models can handle large volumes of data efficiently, reducing the processing time and enabling applications like text classification, sentiment analysis, and information retrieval.\n",
      "3. **Real-time Language Translation**: Fast language models are essential for real-time language translation applications, such as live subtitles, simultaneous interpretation, and instant messaging. They enable seamless communication across languages and cultures.\n",
      "4. **Enhanced Customer Service**: Fast language models power chatbots and virtual assistants, which are increasingly used for customer support. Quick responses help resolve customer queries efficiently, improving customer satisfaction and reducing support costs.\n",
      "5. **Competitive Advantage**: Organizations that adopt fast language models can gain a competitive edge by providing faster and more accurate language-based services. This can be particularly important in industries like finance, healthcare, and e-commerce, where timely and accurate communication is critical.\n",
      "6. **Support for Multilingual Applications**: Fast language models can support multiple languages, enabling applications to cater to diverse user bases. This is particularly important for global organizations and applications with international users.\n",
      "7. **Improved Accuracy**: Fast language models can process large amounts of data, which can lead to improved model accuracy. This is because they can learn from more examples, generalize better, and adapt to new language patterns and trends.\n",
      "8. **Reduced Latency**: Fast language models minimize latency, which is essential for applications that require instant responses, such as voice assistants, live chat, and real-time language translation.\n",
      "9. **Increased Scalability**: Fast language models can handle a large volume of requests, making them ideal for applications with high traffic or large user bases.\n",
      "10. **Research and Development**: Fast language models accelerate research and development in NLP, enabling researchers to explore new ideas, test hypotheses, and develop more sophisticated language models.\n",
      "\n",
      "Some of the key applications of fast language models include:\n",
      "\n",
      "* Virtual assistants (e.g., Siri, Alexa, Google Assistant)\n",
      "* Chatbots and customer support systems\n",
      "* Language translation software (e.g., Google Translate)\n",
      "* Text classification and sentiment analysis tools\n",
      "* Speech recognition and synthesis systems\n",
      "* Language-based search engines and information retrieval systems\n",
      "\n",
      "Overall, fast language models have revolutionized the way we interact with language-based systems, enabling more efficient, accurate, and scalable language processing applications.\n"
     ]
    }
   ],
   "source": [
    "import os\n",
    "\n",
    "from groq import Groq\n",
    "\n",
    "client = Groq(\n",
    "    api_key=os.environ.get(\"GROQ_API_KEY\"),\n",
    ")\n",
    "\n",
    "chat_completion = client.chat.completions.create(\n",
    "    messages=[\n",
    "        {\n",
    "            \"role\": \"user\",\n",
    "            \"content\": \"Explain the importance of fast language models\",\n",
    "        }\n",
    "    ],\n",
    "    model=\"llama-3.3-70b-versatile\",\n",
    ")\n",
    "\n",
    "print(chat_completion.choices[0].message.content)"
   ]
  },
  {
   "cell_type": "code",
   "execution_count": 9,
   "metadata": {},
   "outputs": [],
   "source": [
    "class Agent:\n",
    "    def __init__(self, client, system):\n",
    "        self.client = client\n",
    "        self.system = system\n",
    "        self.messages = []\n",
    "        if self.system is not None:\n",
    "            self.messages.append({\"role\": \"system\", \"content\": self.system})\n",
    "\n",
    "    def __call__(self, message=\"\"):\n",
    "        if message: \n",
    "            self.messages.append({\"role\":\"user\", \"content\": message})\n",
    "        result = self.execute()\n",
    "        self.messages.append({\"role\": \"assistant\", \"content\": result})\n",
    "        return result\n",
    "    \n",
    "    def execute(self):\n",
    "        completion = client.chat.completions.create(\n",
    "            messages = self.messages,\n",
    "            model = \"llama3-70b-8192\"\n",
    "        )\n",
    "        return completion.choices[0].message.content"
   ]
  },
  {
   "cell_type": "code",
   "execution_count": 10,
   "metadata": {},
   "outputs": [],
   "source": [
    "system_prompt = \"\"\"\n",
    "\n",
    "You run in a loop of Thought, Action, Pause, Observation.\n",
    "At the end of the loop you output an Answer\n",
    "Use Thought to describe your thoughts about the question you habe been asked.\n",
    "Use Action to run one of the action available to you - then return PAUSE.\n",
    "Observation will be the result of running those actions.\n",
    "\n",
    "You available actions are:\n",
    "\n",
    "calculat:\n",
    "e.g. calculate: 4 * 7 / 3\n",
    "Runs a calculatation and returns the number - uses python so be sure to use floating point syntax if necessary\n",
    "\n",
    "get_planet_mass:\n",
    "e.g. get_planet_mass: Earth\n",
    "returns weight of the planet in kg\n",
    "\n",
    "Example session:\n",
    "\n",
    "Question: What is the mass of Earth times 2?\n",
    "Thought: I neet to fin te mass of Earth\n",
    "Action: get_planet_mass: Earth\n",
    "PAUSE\n",
    "\n",
    "You will be called again with this: \n",
    "\n",
    "Observation: 5.972e24\n",
    "\n",
    "Thought: I need to multiply this by 2 \n",
    "Action: calculate: 5.972e24 * 2\n",
    "PAUSE\n",
    "\n",
    "You will be called again with this:\n",
    "\n",
    "Observation: 5.972e24\n",
    "\n",
    "Thoutht: I need to multiply this by 2 \n",
    "Action: calculate  5.972e24 * 2\n",
    "PAUSE\n",
    "\n",
    "You will be called again with this:\n",
    "\n",
    "Observation: 1.1944x10e25\n",
    "\n",
    "If you have the answer, output it as the Answer.\n",
    "\n",
    "Answer: The mass of Earth times 2 is 1,944x10e25. \n",
    "\n",
    "Now its your turn:\n",
    "\n",
    "\"\"\".strip()"
   ]
  },
  {
   "cell_type": "code",
   "execution_count": 11,
   "metadata": {},
   "outputs": [],
   "source": [
    "# Ferramentas (Tools)\n",
    "def calculate(operation):\n",
    "    return eval(operation)\n",
    "\n",
    "def get_planet_mass(planet) -> float:\n",
    "    match planet.lower():\n",
    "        case \"earth\":\n",
    "            return 5.972e24\n",
    "        case \"mars\":\n",
    "            return 6.39e23\n",
    "        case \"jupiter\":\n",
    "            return 1.898e27\n",
    "        case \"saturn\":\n",
    "            return 5.683e26\n",
    "        case \"uranus\":\n",
    "            return 8.681e25\n",
    "        case \"neptune\":\n",
    "            return 1.024e26\n",
    "        case \"mercury\":\n",
    "            return 3.285e23\n",
    "        case \"venus\":\n",
    "            return 4.867e24\n",
    "        case _:\n",
    "            return 0.0"
   ]
  },
  {
   "cell_type": "code",
   "execution_count": 12,
   "metadata": {},
   "outputs": [],
   "source": [
    "neil_tyson = Agent(client, system_prompt)"
   ]
  },
  {
   "cell_type": "code",
   "execution_count": 13,
   "metadata": {},
   "outputs": [
    {
     "name": "stdout",
     "output_type": "stream",
     "text": [
      "Thought: I need to find the mass of Earth and then multiply it by 5.\n"
     ]
    }
   ],
   "source": [
    "result = neil_tyson(\"what is the mass of Earth times 5?\")\n",
    "print(result)"
   ]
  },
  {
   "cell_type": "code",
   "execution_count": 14,
   "metadata": {},
   "outputs": [
    {
     "data": {
      "text/plain": [
       "[{'role': 'system',\n",
       "  'content': 'You run in a loop of Thought, Action, Pause, Observation.\\nAt the end of the loop you output an Answer\\nUse Thought to describe your thoughts about the question you habe been asked.\\nUse Action to run one of the action available to you - then return PAUSE.\\nObservation will be the result of running those actions.\\n\\nYou available actions are:\\n\\ncalculat:\\ne.g. calculate: 4 * 7 / 3\\nRuns a calculatation and returns the number - uses python so be sure to use floating point syntax if necessary\\n\\nget_planet_mass:\\ne.g. get_planet_mass: Earth\\nreturns weight of the planet in kg\\n\\nExample session:\\n\\nQuestion: What is the mass of Earth times 2?\\nThought: I neet to fin te mass of Earth\\nAction: get_planet_mass: Earth\\nPAUSE\\n\\nYou will be called again with this: \\n\\nObservation: 5.972e24\\n\\nThought: I need to multiply this by 2 \\nAction: calculate: 5.972e24 * 2\\nPAUSE\\n\\nYou will be called again with this:\\n\\nObservation: 5.972e24\\n\\nThoutht: I need to multiply this by 2 \\nAction: calculate  5.972e24 * 2\\nPAUSE\\n\\nYou will be called again with this:\\n\\nObservation: 1.1944x10e25\\n\\nIf you have the answer, output it as the Answer.\\n\\nAnswer: The mass of Earth times 2 is 1,944x10e25. \\n\\nNow its your turn:'},\n",
       " {'role': 'user', 'content': 'what is the mass of Earth times 5?'},\n",
       " {'role': 'assistant',\n",
       "  'content': 'Thought: I need to find the mass of Earth and then multiply it by 5.'}]"
      ]
     },
     "execution_count": 14,
     "metadata": {},
     "output_type": "execute_result"
    }
   ],
   "source": [
    "neil_tyson.messages"
   ]
  },
  {
   "cell_type": "code",
   "execution_count": 15,
   "metadata": {},
   "outputs": [
    {
     "name": "stdout",
     "output_type": "stream",
     "text": [
      "\n"
     ]
    }
   ],
   "source": [
    "result = neil_tyson()\n",
    "print(result)"
   ]
  },
  {
   "cell_type": "code",
   "execution_count": 16,
   "metadata": {},
   "outputs": [
    {
     "name": "stdout",
     "output_type": "stream",
     "text": [
      "5.972e+24\n"
     ]
    }
   ],
   "source": [
    "observation = get_planet_mass(\"Earth\")\n",
    "print(observation)"
   ]
  },
  {
   "cell_type": "code",
   "execution_count": 17,
   "metadata": {},
   "outputs": [
    {
     "name": "stdout",
     "output_type": "stream",
     "text": [
      "Thought: I need to multiply this by 5.\n",
      "\n",
      "Action: calculate: 5.972e24 * 5\n",
      "PAUSE\n"
     ]
    }
   ],
   "source": [
    "next_prompt = f\"Observation: {observation}\"\n",
    "result = neil_tyson(next_prompt)\n",
    "print(result)"
   ]
  },
  {
   "cell_type": "code",
   "execution_count": 18,
   "metadata": {},
   "outputs": [
    {
     "data": {
      "text/plain": [
       "[{'role': 'system',\n",
       "  'content': 'You run in a loop of Thought, Action, Pause, Observation.\\nAt the end of the loop you output an Answer\\nUse Thought to describe your thoughts about the question you habe been asked.\\nUse Action to run one of the action available to you - then return PAUSE.\\nObservation will be the result of running those actions.\\n\\nYou available actions are:\\n\\ncalculat:\\ne.g. calculate: 4 * 7 / 3\\nRuns a calculatation and returns the number - uses python so be sure to use floating point syntax if necessary\\n\\nget_planet_mass:\\ne.g. get_planet_mass: Earth\\nreturns weight of the planet in kg\\n\\nExample session:\\n\\nQuestion: What is the mass of Earth times 2?\\nThought: I neet to fin te mass of Earth\\nAction: get_planet_mass: Earth\\nPAUSE\\n\\nYou will be called again with this: \\n\\nObservation: 5.972e24\\n\\nThought: I need to multiply this by 2 \\nAction: calculate: 5.972e24 * 2\\nPAUSE\\n\\nYou will be called again with this:\\n\\nObservation: 5.972e24\\n\\nThoutht: I need to multiply this by 2 \\nAction: calculate  5.972e24 * 2\\nPAUSE\\n\\nYou will be called again with this:\\n\\nObservation: 1.1944x10e25\\n\\nIf you have the answer, output it as the Answer.\\n\\nAnswer: The mass of Earth times 2 is 1,944x10e25. \\n\\nNow its your turn:'},\n",
       " {'role': 'user', 'content': 'what is the mass of Earth times 5?'},\n",
       " {'role': 'assistant',\n",
       "  'content': 'Thought: I need to find the mass of Earth and then multiply it by 5.'},\n",
       " {'role': 'assistant', 'content': ''},\n",
       " {'role': 'user', 'content': 'Observation: 5.972e+24'},\n",
       " {'role': 'assistant',\n",
       "  'content': 'Thought: I need to multiply this by 5.\\n\\nAction: calculate: 5.972e24 * 5\\nPAUSE'}]"
      ]
     },
     "execution_count": 18,
     "metadata": {},
     "output_type": "execute_result"
    }
   ],
   "source": [
    "neil_tyson.messages"
   ]
  },
  {
   "cell_type": "code",
   "execution_count": 21,
   "metadata": {},
   "outputs": [],
   "source": [
    "import re\n",
    "\n",
    "def agent_loop(max_iterations, system, query):\n",
    "    agent = Agent(client=client, system=system_prompt)\n",
    "    tools = [\"calculate\", \"get_planet_mass\"]\n",
    "    next_prompt = query\n",
    "    i = 0\n",
    "    while i < max_iterations:\n",
    "        i += 1\n",
    "        result = agent(next_prompt)\n",
    "        print(result)\n",
    "\n",
    "        if \"PAUSE\" in result and \"Action\" in result:\n",
    "            action = re.findall(r\"Action: ([a-z_]+): (.+)\", result, re.IGNORECASE)\n",
    "            chosen_tool = action[0][0]\n",
    "            arg = action[0][1]\n",
    "\n",
    "            if chosen_tool in tools:\n",
    "                result_tool = eval(f\"{chosen_tool}('{arg}')\")\n",
    "                next_prompt = f\"Observation: {result_tool}\"\n",
    "\n",
    "            else:\n",
    "                next_prompt = \"Observation: Tool not found\"\n",
    "\n",
    "            print(next_prompt)\n",
    "            continue\n",
    "\n",
    "        if \"Answer\" in result:\n",
    "            break\n",
    "\n"
   ]
  },
  {
   "cell_type": "code",
   "execution_count": 24,
   "metadata": {},
   "outputs": [
    {
     "name": "stdout",
     "output_type": "stream",
     "text": [
      "Thought: I need to find the mass of Earth and Mercury, and then add them together, and finally multiply the result by 5.\n",
      "Action: get_planet_mass: Earth\n",
      "PAUSE\n",
      "Observation: 5.972e+24\n",
      "Thought: Now I have the mass of Earth, I need to get the mass of Mercury\n",
      "Action: get_planet_mass: Mercury\n",
      "PAUSE\n",
      "Observation: 3.285e+23\n",
      "Thought: Now I have the mass of Earth and Mercury, I need to add them together\n",
      "Action: calculate: 5.972e+24 + 3.285e+23\n",
      "PAUSE\n",
      "Observation: 6.300500000000001e+24\n",
      "Thought: Now I have the sum of the masses of Earth and Mercury, I need to multiply it by 5\n",
      "Action: calculate: 6.300500000000001e+24 * 5\n",
      "PAUSE\n",
      "Observation: 3.1502500000000004e+25\n",
      "Thought: I have the final result \n",
      "\n",
      "Answer: The mass of the Earth plus the mass of Mercury, and all of it times 5 is 3.15025e+25.\n"
     ]
    }
   ],
   "source": [
    "agent_loop(10, system = system_prompt, query=\"what is the mass of the Earth plus the mass of Mercury, and All of it times 5\")"
   ]
  }
 ],
 "metadata": {
  "kernelspec": {
   "display_name": "venv",
   "language": "python",
   "name": "python3"
  },
  "language_info": {
   "codemirror_mode": {
    "name": "ipython",
    "version": 3
   },
   "file_extension": ".py",
   "mimetype": "text/x-python",
   "name": "python",
   "nbconvert_exporter": "python",
   "pygments_lexer": "ipython3",
   "version": "3.13.2"
  }
 },
 "nbformat": 4,
 "nbformat_minor": 2
}
